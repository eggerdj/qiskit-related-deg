{
 "cells": [
  {
   "cell_type": "code",
   "execution_count": null,
   "metadata": {},
   "outputs": [],
   "source": [
    "from qiskit.providers import BaseBackend\n",
    "from qiskit.providers.models import BackendConfiguration\n",
    "from qiskit import qobj as qiskit_qobj\n",
    "from qiskit.result import Result\n",
    "\n",
    "\n",
    "class CustomBackend(BaseBackend):\n",
    "    '''\n",
    "    A wrapper backend for the Hadamard simulator\n",
    "    '''\n",
    "\n",
    "    def __init__(self, provider=None):\n",
    "        \n",
    "        configuration = method_to_create_configuration_dict()\n",
    "        \n",
    "        # We will explain about the provider in the next section\n",
    "        super().__init__(configuration=BackendConfiguration.from_dict(configuration),\n",
    "                         provider=provider)\n",
    "\n",
    "\n",
    "    def run(self, qobj):\n",
    "        \"\"\"Run qobj\n",
    "\n",
    "        Args:\n",
    "            qobj (QObj): circuit description\n",
    "\n",
    "        Returns:\n",
    "            CustomJob: derived from BaseJob\n",
    "        \"\"\"\n",
    "        # 1) Parse the qobj\n",
    "        \n",
    "        # 2) Run the exeperiments\n",
    "            \n",
    "        # 3) Package the result of the experiments\n",
    "        CustomJob = None\n",
    "        \n",
    "        return CustomJob"
   ]
  }
 ],
 "metadata": {
  "kernelspec": {
   "display_name": "Python 3",
   "language": "python",
   "name": "python3"
  },
  "language_info": {
   "codemirror_mode": {
    "name": "ipython",
    "version": 3
   },
   "file_extension": ".py",
   "mimetype": "text/x-python",
   "name": "python",
   "nbconvert_exporter": "python",
   "pygments_lexer": "ipython3",
   "version": "3.7.3"
  }
 },
 "nbformat": 4,
 "nbformat_minor": 2
}
